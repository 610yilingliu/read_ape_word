{
 "cells": [
  {
   "cell_type": "code",
   "execution_count": 3,
   "metadata": {},
   "outputs": [
    {
     "name": "stdout",
     "output_type": "stream",
     "text": [
      "Total words: 20\n",
      "Wrong\n",
      "Wrong\n"
     ]
    },
    {
     "ename": "FileNotFoundError",
     "evalue": "[Errno 2] No such file or directory: './wrong_record/20240806_wrong.json'",
     "output_type": "error",
     "traceback": [
      "\u001b[1;31m---------------------------------------------------------------------------\u001b[0m",
      "\u001b[1;31mFileNotFoundError\u001b[0m                         Traceback (most recent call last)",
      "Cell \u001b[1;32mIn[3], line 78\u001b[0m\n\u001b[0;32m     76\u001b[0m learn\u001b[38;5;241m.\u001b[39mimport_words()\n\u001b[0;32m     77\u001b[0m learn\u001b[38;5;241m.\u001b[39mreview_words()\n\u001b[1;32m---> 78\u001b[0m \u001b[43mlearn\u001b[49m\u001b[38;5;241;43m.\u001b[39;49m\u001b[43msave_wrong_words\u001b[49m\u001b[43m(\u001b[49m\u001b[43m)\u001b[49m\n",
      "Cell \u001b[1;32mIn[3], line 66\u001b[0m, in \u001b[0;36mLearnEnglish.save_wrong_words\u001b[1;34m(self)\u001b[0m\n\u001b[0;32m     64\u001b[0m     suffix \u001b[38;5;241m+\u001b[39m\u001b[38;5;241m=\u001b[39m \u001b[38;5;241m1\u001b[39m\n\u001b[0;32m     65\u001b[0m     filename \u001b[38;5;241m=\u001b[39m formatted_time \u001b[38;5;241m+\u001b[39m \u001b[38;5;124m'\u001b[39m\u001b[38;5;124m_wrong\u001b[39m\u001b[38;5;124m'\u001b[39m \u001b[38;5;241m+\u001b[39m \u001b[38;5;28mstr\u001b[39m(suffix) \u001b[38;5;241m+\u001b[39m \u001b[38;5;124m'\u001b[39m\u001b[38;5;124m.json\u001b[39m\u001b[38;5;124m'\u001b[39m\n\u001b[1;32m---> 66\u001b[0m \u001b[38;5;28;01mwith\u001b[39;00m \u001b[38;5;28;43mopen\u001b[39;49m\u001b[43m(\u001b[49m\u001b[43mos\u001b[49m\u001b[38;5;241;43m.\u001b[39;49m\u001b[43mpath\u001b[49m\u001b[38;5;241;43m.\u001b[39;49m\u001b[43mjoin\u001b[49m\u001b[43m(\u001b[49m\u001b[38;5;28;43mself\u001b[39;49m\u001b[38;5;241;43m.\u001b[39;49m\u001b[43moutput_folder\u001b[49m\u001b[43m,\u001b[49m\u001b[43m \u001b[49m\u001b[43mfilename\u001b[49m\u001b[43m)\u001b[49m\u001b[43m,\u001b[49m\u001b[43m \u001b[49m\u001b[38;5;124;43m'\u001b[39;49m\u001b[38;5;124;43mw\u001b[39;49m\u001b[38;5;124;43m'\u001b[39;49m\u001b[43m)\u001b[49m \u001b[38;5;28;01mas\u001b[39;00m f:\n\u001b[0;32m     67\u001b[0m     json\u001b[38;5;241m.\u001b[39mdump(\u001b[38;5;28mself\u001b[39m\u001b[38;5;241m.\u001b[39mwrong_dict, f)\n",
      "File \u001b[1;32mc:\\Users\\yilin\\anaconda3\\envs\\reverse\\Lib\\site-packages\\IPython\\core\\interactiveshell.py:324\u001b[0m, in \u001b[0;36m_modified_open\u001b[1;34m(file, *args, **kwargs)\u001b[0m\n\u001b[0;32m    317\u001b[0m \u001b[38;5;28;01mif\u001b[39;00m file \u001b[38;5;129;01min\u001b[39;00m {\u001b[38;5;241m0\u001b[39m, \u001b[38;5;241m1\u001b[39m, \u001b[38;5;241m2\u001b[39m}:\n\u001b[0;32m    318\u001b[0m     \u001b[38;5;28;01mraise\u001b[39;00m \u001b[38;5;167;01mValueError\u001b[39;00m(\n\u001b[0;32m    319\u001b[0m         \u001b[38;5;124mf\u001b[39m\u001b[38;5;124m\"\u001b[39m\u001b[38;5;124mIPython won\u001b[39m\u001b[38;5;124m'\u001b[39m\u001b[38;5;124mt let you open fd=\u001b[39m\u001b[38;5;132;01m{\u001b[39;00mfile\u001b[38;5;132;01m}\u001b[39;00m\u001b[38;5;124m by default \u001b[39m\u001b[38;5;124m\"\u001b[39m\n\u001b[0;32m    320\u001b[0m         \u001b[38;5;124m\"\u001b[39m\u001b[38;5;124mas it is likely to crash IPython. If you know what you are doing, \u001b[39m\u001b[38;5;124m\"\u001b[39m\n\u001b[0;32m    321\u001b[0m         \u001b[38;5;124m\"\u001b[39m\u001b[38;5;124myou can use builtins\u001b[39m\u001b[38;5;124m'\u001b[39m\u001b[38;5;124m open.\u001b[39m\u001b[38;5;124m\"\u001b[39m\n\u001b[0;32m    322\u001b[0m     )\n\u001b[1;32m--> 324\u001b[0m \u001b[38;5;28;01mreturn\u001b[39;00m \u001b[43mio_open\u001b[49m\u001b[43m(\u001b[49m\u001b[43mfile\u001b[49m\u001b[43m,\u001b[49m\u001b[43m \u001b[49m\u001b[38;5;241;43m*\u001b[39;49m\u001b[43margs\u001b[49m\u001b[43m,\u001b[49m\u001b[43m \u001b[49m\u001b[38;5;241;43m*\u001b[39;49m\u001b[38;5;241;43m*\u001b[39;49m\u001b[43mkwargs\u001b[49m\u001b[43m)\u001b[49m\n",
      "\u001b[1;31mFileNotFoundError\u001b[0m: [Errno 2] No such file or directory: './wrong_record/20240806_wrong.json'"
     ]
    }
   ],
   "source": [
    "import pyttsx3\n",
    "import json\n",
    "import os\n",
    "from collections import defaultdict\n",
    "from datetime import datetime\n",
    "\n",
    "class LearnEnglish:\n",
    "    def __init__(self, input_folder, output_folder):\n",
    "        self.folder = './ape_json/'\n",
    "        self.output_folder = './wrong_record/'\n",
    "        self.word_dicts = defaultdict(set)\n",
    "        self.wrong_dict = defaultdict(set)\n",
    "\n",
    "    def import_words(self):\n",
    "        cnt = 0\n",
    "        for filename in os.listdir(self.folder):\n",
    "            with open(self.folder + filename, 'r') as f:\n",
    "                date = filename.split('.')[0]\n",
    "                data = json.load(f)\n",
    "                words = data['data']['nwords']\n",
    "                for item in words:\n",
    "                    self.word_dicts[date].add(item['word'])\n",
    "                    cnt += 1\n",
    "\n",
    "        print('Total words:', cnt)\n",
    "\n",
    "    def review_words(self, review_key = 'all'):\n",
    "        engine = pyttsx3.init()\n",
    "        engine.setProperty('voice', 'com.microsoft.speech.platform.voice.SynthesizerVoice')\n",
    "        engine.setProperty('voice', 'en')\n",
    "        if review_key == 'all':\n",
    "            for k in self.word_dicts:\n",
    "                for word in self.word_dicts[k]:\n",
    "                    engine.say(word)\n",
    "                    input_word = input('Input word you heard:')\n",
    "                    if input_word == 'exit':\n",
    "                        break\n",
    "                    if input_word == word:\n",
    "                        print('Correct')\n",
    "                    else:\n",
    "                        print('Wrong')\n",
    "                        self.wrong_dict[k].add(word)\n",
    "                    engine.runAndWait()\n",
    "        else:\n",
    "            for word in self.word_dicts[review_key]:\n",
    "                engine = pyttsx3.init()\n",
    "                engine.say(word)\n",
    "                input_word = input('Input word you heard:')\n",
    "                if input_word == 'exit':\n",
    "                    break\n",
    "                if input_word == word:\n",
    "                    print('Correct')\n",
    "                else:\n",
    "                    print('Wrong')\n",
    "                    self.wrong_dict[review_key].add(word)\n",
    "                engine.runAndWait()\n",
    "\n",
    "    def save_wrong_words(self):\n",
    "        current_time = datetime.now()\n",
    "        formatted_time = current_time.strftime(\"%Y%m%d\")\n",
    "        filename = formatted_time + '_wrong.json'\n",
    "        suffix = 0\n",
    "        while os.path.exists(os.path.join(self.output_folder, filename)):\n",
    "            suffix += 1\n",
    "            filename = formatted_time + '_wrong' + str(suffix) + '.json'\n",
    "        with open(os.path.join(self.output_folder, filename), 'w') as f:\n",
    "            json.dump(self.wrong_dict, f)\n",
    "        \n",
    "    def load_wrong_words(self):\n",
    "        filename = input('Input the filename:')\n",
    "        with open(os.path.join(self.output_folder, filename), 'r') as f:\n",
    "            self.wrong_dict = json.load(f)\n",
    "\n",
    "if __name__ == '__main__':\n",
    "    learn = LearnEnglish('./ape_json/', './wrong_record/')\n",
    "    learn.import_words()\n",
    "    learn.review_words()\n",
    "    learn.save_wrong_words()"
   ]
  }
 ],
 "metadata": {
  "kernelspec": {
   "display_name": "reverse",
   "language": "python",
   "name": "python3"
  },
  "language_info": {
   "codemirror_mode": {
    "name": "ipython",
    "version": 3
   },
   "file_extension": ".py",
   "mimetype": "text/x-python",
   "name": "python",
   "nbconvert_exporter": "python",
   "pygments_lexer": "ipython3",
   "version": "3.12.4"
  }
 },
 "nbformat": 4,
 "nbformat_minor": 2
}
